{
  "nbformat": 4,
  "nbformat_minor": 0,
  "metadata": {
    "colab": {
      "provenance": [],
      "authorship_tag": "ABX9TyNFLB6yEaYVvhfs2tnCQ9iR",
      "include_colab_link": true
    },
    "kernelspec": {
      "name": "python3",
      "display_name": "Python 3"
    },
    "language_info": {
      "name": "python"
    }
  },
  "cells": [
    {
      "cell_type": "markdown",
      "metadata": {
        "id": "view-in-github",
        "colab_type": "text"
      },
      "source": [
        "<a href=\"https://colab.research.google.com/github/zihanzhao1029/ML-project_HW1/blob/main/report_on_U_N_World_Happiness_Data.ipynb\" target=\"_parent\"><img src=\"https://colab.research.google.com/assets/colab-badge.svg\" alt=\"Open In Colab\"/></a>"
      ]
    },
    {
      "cell_type": "markdown",
      "source": [
        "Github repo link: https://github.com/zihanzhao1029/ML-project_HW1/blob/main/report_on_U_N_World_Happiness_Data.ipynb"
      ],
      "metadata": {
        "id": "bKi9zwIbeasr"
      }
    },
    {
      "cell_type": "markdown",
      "source": [
        "# 1.Explore bivariate results (Use visualizations!)\n",
        "Describe any relationships you see between particular features and the target variable"
      ],
      "metadata": {
        "id": "ubHzfGj3XoKQ"
      }
    },
    {
      "cell_type": "code",
      "execution_count": null,
      "metadata": {
        "colab": {
          "base_uri": "https://localhost:8080/",
          "height": 299
        },
        "id": "5-9_rp7ptVfP",
        "outputId": "6900d1c8-6a62-4b16-82e9-e457857d481e"
      },
      "outputs": [
        {
          "output_type": "execute_result",
          "data": {
            "text/plain": [
              "  Country or region  GDP per capita  Social support  Healthy life expectancy  \\\n",
              "0              Peru           0.960           1.274                    0.854   \n",
              "1         Nicaragua           0.694           1.325                    0.835   \n",
              "2            Greece           1.181           1.156                    0.999   \n",
              "3             Qatar           1.684           1.313                    0.871   \n",
              "4        Uzbekistan           0.745           1.529                    0.756   \n",
              "\n",
              "   Freedom to make life choices  Generosity  Perceptions of corruption  \\\n",
              "0                         0.455       0.083                      0.027   \n",
              "1                         0.435       0.200                      0.127   \n",
              "2                         0.067       0.000                      0.034   \n",
              "3                         0.555       0.220                      0.167   \n",
              "4                         0.631       0.322                      0.240   \n",
              "\n",
              "         name    region                       sub-region  Terrorist_attacks  \n",
              "0        Peru  Americas  Latin America and the Caribbean          18.000000  \n",
              "1   Nicaragua  Americas  Latin America and the Caribbean         125.611111  \n",
              "2      Greece    Europe                  Southern Europe         112.000000  \n",
              "3       Qatar      Asia                     Western Asia          57.333333  \n",
              "4  Uzbekistan      Asia                     Central Asia         125.611111  "
            ],
            "text/html": [
              "\n",
              "  <div id=\"df-bef86a0c-8d11-43e0-8844-5adc12261239\">\n",
              "    <div class=\"colab-df-container\">\n",
              "      <div>\n",
              "<style scoped>\n",
              "    .dataframe tbody tr th:only-of-type {\n",
              "        vertical-align: middle;\n",
              "    }\n",
              "\n",
              "    .dataframe tbody tr th {\n",
              "        vertical-align: top;\n",
              "    }\n",
              "\n",
              "    .dataframe thead th {\n",
              "        text-align: right;\n",
              "    }\n",
              "</style>\n",
              "<table border=\"1\" class=\"dataframe\">\n",
              "  <thead>\n",
              "    <tr style=\"text-align: right;\">\n",
              "      <th></th>\n",
              "      <th>Country or region</th>\n",
              "      <th>GDP per capita</th>\n",
              "      <th>Social support</th>\n",
              "      <th>Healthy life expectancy</th>\n",
              "      <th>Freedom to make life choices</th>\n",
              "      <th>Generosity</th>\n",
              "      <th>Perceptions of corruption</th>\n",
              "      <th>name</th>\n",
              "      <th>region</th>\n",
              "      <th>sub-region</th>\n",
              "      <th>Terrorist_attacks</th>\n",
              "    </tr>\n",
              "  </thead>\n",
              "  <tbody>\n",
              "    <tr>\n",
              "      <th>0</th>\n",
              "      <td>Peru</td>\n",
              "      <td>0.960</td>\n",
              "      <td>1.274</td>\n",
              "      <td>0.854</td>\n",
              "      <td>0.455</td>\n",
              "      <td>0.083</td>\n",
              "      <td>0.027</td>\n",
              "      <td>Peru</td>\n",
              "      <td>Americas</td>\n",
              "      <td>Latin America and the Caribbean</td>\n",
              "      <td>18.000000</td>\n",
              "    </tr>\n",
              "    <tr>\n",
              "      <th>1</th>\n",
              "      <td>Nicaragua</td>\n",
              "      <td>0.694</td>\n",
              "      <td>1.325</td>\n",
              "      <td>0.835</td>\n",
              "      <td>0.435</td>\n",
              "      <td>0.200</td>\n",
              "      <td>0.127</td>\n",
              "      <td>Nicaragua</td>\n",
              "      <td>Americas</td>\n",
              "      <td>Latin America and the Caribbean</td>\n",
              "      <td>125.611111</td>\n",
              "    </tr>\n",
              "    <tr>\n",
              "      <th>2</th>\n",
              "      <td>Greece</td>\n",
              "      <td>1.181</td>\n",
              "      <td>1.156</td>\n",
              "      <td>0.999</td>\n",
              "      <td>0.067</td>\n",
              "      <td>0.000</td>\n",
              "      <td>0.034</td>\n",
              "      <td>Greece</td>\n",
              "      <td>Europe</td>\n",
              "      <td>Southern Europe</td>\n",
              "      <td>112.000000</td>\n",
              "    </tr>\n",
              "    <tr>\n",
              "      <th>3</th>\n",
              "      <td>Qatar</td>\n",
              "      <td>1.684</td>\n",
              "      <td>1.313</td>\n",
              "      <td>0.871</td>\n",
              "      <td>0.555</td>\n",
              "      <td>0.220</td>\n",
              "      <td>0.167</td>\n",
              "      <td>Qatar</td>\n",
              "      <td>Asia</td>\n",
              "      <td>Western Asia</td>\n",
              "      <td>57.333333</td>\n",
              "    </tr>\n",
              "    <tr>\n",
              "      <th>4</th>\n",
              "      <td>Uzbekistan</td>\n",
              "      <td>0.745</td>\n",
              "      <td>1.529</td>\n",
              "      <td>0.756</td>\n",
              "      <td>0.631</td>\n",
              "      <td>0.322</td>\n",
              "      <td>0.240</td>\n",
              "      <td>Uzbekistan</td>\n",
              "      <td>Asia</td>\n",
              "      <td>Central Asia</td>\n",
              "      <td>125.611111</td>\n",
              "    </tr>\n",
              "  </tbody>\n",
              "</table>\n",
              "</div>\n",
              "      <button class=\"colab-df-convert\" onclick=\"convertToInteractive('df-bef86a0c-8d11-43e0-8844-5adc12261239')\"\n",
              "              title=\"Convert this dataframe to an interactive table.\"\n",
              "              style=\"display:none;\">\n",
              "        \n",
              "  <svg xmlns=\"http://www.w3.org/2000/svg\" height=\"24px\"viewBox=\"0 0 24 24\"\n",
              "       width=\"24px\">\n",
              "    <path d=\"M0 0h24v24H0V0z\" fill=\"none\"/>\n",
              "    <path d=\"M18.56 5.44l.94 2.06.94-2.06 2.06-.94-2.06-.94-.94-2.06-.94 2.06-2.06.94zm-11 1L8.5 8.5l.94-2.06 2.06-.94-2.06-.94L8.5 2.5l-.94 2.06-2.06.94zm10 10l.94 2.06.94-2.06 2.06-.94-2.06-.94-.94-2.06-.94 2.06-2.06.94z\"/><path d=\"M17.41 7.96l-1.37-1.37c-.4-.4-.92-.59-1.43-.59-.52 0-1.04.2-1.43.59L10.3 9.45l-7.72 7.72c-.78.78-.78 2.05 0 2.83L4 21.41c.39.39.9.59 1.41.59.51 0 1.02-.2 1.41-.59l7.78-7.78 2.81-2.81c.8-.78.8-2.07 0-2.86zM5.41 20L4 18.59l7.72-7.72 1.47 1.35L5.41 20z\"/>\n",
              "  </svg>\n",
              "      </button>\n",
              "      \n",
              "  <style>\n",
              "    .colab-df-container {\n",
              "      display:flex;\n",
              "      flex-wrap:wrap;\n",
              "      gap: 12px;\n",
              "    }\n",
              "\n",
              "    .colab-df-convert {\n",
              "      background-color: #E8F0FE;\n",
              "      border: none;\n",
              "      border-radius: 50%;\n",
              "      cursor: pointer;\n",
              "      display: none;\n",
              "      fill: #1967D2;\n",
              "      height: 32px;\n",
              "      padding: 0 0 0 0;\n",
              "      width: 32px;\n",
              "    }\n",
              "\n",
              "    .colab-df-convert:hover {\n",
              "      background-color: #E2EBFA;\n",
              "      box-shadow: 0px 1px 2px rgba(60, 64, 67, 0.3), 0px 1px 3px 1px rgba(60, 64, 67, 0.15);\n",
              "      fill: #174EA6;\n",
              "    }\n",
              "\n",
              "    [theme=dark] .colab-df-convert {\n",
              "      background-color: #3B4455;\n",
              "      fill: #D2E3FC;\n",
              "    }\n",
              "\n",
              "    [theme=dark] .colab-df-convert:hover {\n",
              "      background-color: #434B5C;\n",
              "      box-shadow: 0px 1px 3px 1px rgba(0, 0, 0, 0.15);\n",
              "      filter: drop-shadow(0px 1px 2px rgba(0, 0, 0, 0.3));\n",
              "      fill: #FFFFFF;\n",
              "    }\n",
              "  </style>\n",
              "\n",
              "      <script>\n",
              "        const buttonEl =\n",
              "          document.querySelector('#df-bef86a0c-8d11-43e0-8844-5adc12261239 button.colab-df-convert');\n",
              "        buttonEl.style.display =\n",
              "          google.colab.kernel.accessAllowed ? 'block' : 'none';\n",
              "\n",
              "        async function convertToInteractive(key) {\n",
              "          const element = document.querySelector('#df-bef86a0c-8d11-43e0-8844-5adc12261239');\n",
              "          const dataTable =\n",
              "            await google.colab.kernel.invokeFunction('convertToInteractive',\n",
              "                                                     [key], {});\n",
              "          if (!dataTable) return;\n",
              "\n",
              "          const docLinkHtml = 'Like what you see? Visit the ' +\n",
              "            '<a target=\"_blank\" href=https://colab.research.google.com/notebooks/data_table.ipynb>data table notebook</a>'\n",
              "            + ' to learn more about interactive tables.';\n",
              "          element.innerHTML = '';\n",
              "          dataTable['output_type'] = 'display_data';\n",
              "          await google.colab.output.renderOutput(dataTable, element);\n",
              "          const docLink = document.createElement('div');\n",
              "          docLink.innerHTML = docLinkHtml;\n",
              "          element.appendChild(docLink);\n",
              "        }\n",
              "      </script>\n",
              "    </div>\n",
              "  </div>\n",
              "  "
            ]
          },
          "metadata": {},
          "execution_count": 5
        }
      ],
      "source": [
        "# import world happiness data\n",
        "import pandas as pd\n",
        "X_train = pd.read_csv('/content/X_train.csv')\n",
        "X_test = pd.read_csv('/content/X_test.csv')\n",
        "y_train = pd.read_csv('/content/y_train.csv')\n",
        "y_train_labels = y_train.idxmax(axis=1)\n",
        "X_train.head()"
      ]
    },
    {
      "cell_type": "code",
      "source": [
        "print(X_train.shape)\n",
        "y_train_labels"
      ],
      "metadata": {
        "id": "D_BzcsWUQcxJ"
      },
      "execution_count": null,
      "outputs": []
    },
    {
      "cell_type": "markdown",
      "source": [
        "### From scatterplot below, we can clearly observe that there is postive relationship between GDP per captial , healthy life expectancy and world happiness, while the terrorist attacks negatively effects the level of world happiness."
      ],
      "metadata": {
        "id": "d5oNJqayWEkx"
      }
    },
    {
      "cell_type": "code",
      "source": [
        "# Convert happiness level into numerical terms\n",
        "y_train_labels.replace(['Very Low', 'Low','Average','High','Very High'],\n",
        "                        [0,1,2,3,4], inplace=True)"
      ],
      "metadata": {
        "id": "ek1ZkvK4tZ4Q"
      },
      "execution_count": null,
      "outputs": []
    },
    {
      "cell_type": "code",
      "source": [
        "from matplotlib import pyplot as plt\n",
        "import pandas as pd\n",
        "import numpy as np\n",
        "import seaborn as sns #created fit line\n",
        "\n",
        "plt.rcParams[\"figure.figsize\"] = [15, 5]\n",
        "\n",
        "\n",
        "# put all histograms together\n",
        "\n",
        "fig, axes = plt.subplots(1, 3)\n",
        "\n",
        "axes[0].scatter(x = X_train['GDP per capita'], y = y_train_labels,c='blue')\n",
        "axes[0].set_xlabel('GDP per capital')\n",
        "axes[0].set_title('world happiness')\n",
        "axes[0].set_yticks(np.arange(0, 5, 1)) \n",
        "\n",
        "axes[1].scatter(x = X_train['Healthy life expectancy'], y = y_train_labels,c='red')\n",
        "axes[1].set_xlabel('Healthy life expectancy')\n",
        "axes[1].set_title('world happiness')\n",
        "axes[1].set_yticks(np.arange(0,5, 1)) \n",
        "\n",
        "\n",
        "axes[2].scatter(x = X_train['Terrorist_attacks'], y =y_train_labels,c='green')\n",
        "axes[2].set_xlabel('Terrorist_attacks')\n",
        "axes[2].set_title('world happiness')\n",
        "axes[2].set_xlim([0,2500])\n",
        "axes[2].set_yticks(np.arange(0,5, 1)) \n",
        "plt.show()"
      ],
      "metadata": {
        "colab": {
          "base_uri": "https://localhost:8080/",
          "height": 351
        },
        "id": "BSfnvZMGt536",
        "outputId": "60bbbc91-28dc-4ab5-db7d-c959c5ead7dd"
      },
      "execution_count": null,
      "outputs": [
        {
          "output_type": "display_data",
          "data": {
            "text/plain": [
              "<Figure size 1080x360 with 3 Axes>"
            ],
            "image/png": "[encoded data removed]"
          },
          "metadata": {
            "needs_background": "light"
          }
        }
      ]
    },
    {
      "cell_type": "code",
      "source": [
        "from sklearn.preprocessing import StandardScaler, OneHotEncoder\n",
        "from sklearn.compose import ColumnTransformer, make_column_transformer\n",
        "from sklearn.pipeline import Pipeline\n",
        "from sklearn.impute import SimpleImputer\n",
        "from sklearn.preprocessing import StandardScaler, OneHotEncoder\n",
        "\n",
        "# We create the preprocessing pipelines for both numeric and categorical data.\n",
        "\n",
        "numeric_features = X_train.drop(['Country or region', 'name', 'region', 'sub-region'],axis=1)\n",
        "\n",
        "numeric_features=numeric_features.columns.tolist()\n",
        "\n",
        "numeric_transformer = Pipeline(steps=[\n",
        "    ('imputer', SimpleImputer(strategy='median')),\n",
        "    ('scaler', StandardScaler())])\n",
        "\n",
        "categorical_features = ['region', 'sub-region']\n",
        "\n",
        "#Replacing missing values with Modal value and then one hot encoding.\n",
        "categorical_transformer = Pipeline(steps=[\n",
        "    ('imputer', SimpleImputer(strategy='most_frequent')),\n",
        "    ('onehot', OneHotEncoder(handle_unknown='ignore'))])\n",
        "\n",
        "# final preprocessor object set up with ColumnTransformer\n",
        "preprocessor = ColumnTransformer(\n",
        "    transformers=[\n",
        "        ('num', numeric_transformer, numeric_features),\n",
        "        ('cat', categorical_transformer, categorical_features)])\n",
        "\n",
        "#Fit your preprocessor object\n",
        "preprocess=preprocessor.fit(X_train)"
      ],
      "metadata": {
        "id": "C5RyrKaht71G"
      },
      "execution_count": null,
      "outputs": []
    },
    {
      "cell_type": "code",
      "source": [
        "# Write function to transform data with preprocessor\n",
        "def preprocessor(X_train):\n",
        "    X_train = X_train.drop(['Country or region', 'name'], axis=1)\n",
        "    preprocessed_data = preprocess.transform(X_train)\n",
        "    return preprocessed_data"
      ],
      "metadata": {
        "id": "2PKqN5P12AuW"
      },
      "execution_count": null,
      "outputs": []
    },
    {
      "cell_type": "code",
      "source": [
        "preprocessor(X_train).shape"
      ],
      "metadata": {
        "id": "MTpmW4VJuLmv"
      },
      "execution_count": null,
      "outputs": []
    },
    {
      "cell_type": "markdown",
      "source": [
        "# 2.Examine features that predict happiness categories using one or more models that allow for automatic feature selection\n",
        " Explain any meaningful findings"
      ],
      "metadata": {
        "id": "73QqszR6X6ER"
      }
    },
    {
      "cell_type": "markdown",
      "source": [
        "### Findings: Given the feature ranking of RFE, column 0, column1, column2 ,column3, and column5 are the important features to predict world happiness categories "
      ],
      "metadata": {
        "id": "BEh9rIpDV3hF"
      }
    },
    {
      "cell_type": "code",
      "source": [
        "# Using Recursive Feature Elimination to find important features\n",
        "\n",
        "from sklearn.ensemble import RandomForestClassifier\n",
        "from sklearn.feature_selection import RFE\n",
        "\n",
        "estimator = RandomForestClassifier().fit(preprocessor(X_train), y_train_labels) #model with all X variables\n",
        "\n",
        "\n",
        "selector = RFE(estimator, n_features_to_select=5, step=1) # step tells RFE how many features to remove each time model features are evaluated\n",
        "\n",
        "selector = selector.fit(preprocessor(X_train), y_train_labels) # fit RFE estimator.\n",
        "\n",
        "print(\"Num Features: \"+str(selector.n_features_))\n",
        "print(\"Selected Features: \"+str(selector.support_)) # T/F for top five features\n",
        "print(\"Feature Ranking: \"+str(selector.ranking_))  # ranking for top five + features"
      ],
      "metadata": {
        "colab": {
          "base_uri": "https://localhost:8080/"
        },
        "id": "-dghPvC1uLo4",
        "outputId": "85c6a7c6-0e9d-43f8-ca3e-a0fe4279a97e"
      },
      "execution_count": null,
      "outputs": [
        {
          "output_type": "stream",
          "name": "stdout",
          "text": [
            "Num Features: 5\n",
            "Selected Features: [ True  True  True  True False  True False False False False False False\n",
            " False False False False False False False False False False False False\n",
            " False False]\n",
            "Feature Ranking: [ 1  1  1  1  2  1  3  7  9  5  8 22 21 15 19 16  6 18 20 17 14 11 10  4\n",
            " 12 13]\n"
          ]
        }
      ]
    },
    {
      "cell_type": "code",
      "source": [
        "# see which features are selected \n",
        "for i in range(preprocessor(X_train).shape[1]):\n",
        " print('Column: %d, Selected %s, Rank: %.3f' % (i,selector .support_[i],selector.ranking_[i]))"
      ],
      "metadata": {
        "colab": {
          "base_uri": "https://localhost:8080/"
        },
        "id": "LBT9EdFxT3W0",
        "outputId": "1ba20f92-8366-425e-beca-51a4b10419c4"
      },
      "execution_count": null,
      "outputs": [
        {
          "output_type": "stream",
          "name": "stdout",
          "text": [
            "Column: 0, Selected True, Rank: 1.000\n",
            "Column: 1, Selected True, Rank: 1.000\n",
            "Column: 2, Selected True, Rank: 1.000\n",
            "Column: 3, Selected True, Rank: 1.000\n",
            "Column: 4, Selected False, Rank: 2.000\n",
            "Column: 5, Selected True, Rank: 1.000\n",
            "Column: 6, Selected False, Rank: 3.000\n",
            "Column: 7, Selected False, Rank: 7.000\n",
            "Column: 8, Selected False, Rank: 9.000\n",
            "Column: 9, Selected False, Rank: 5.000\n",
            "Column: 10, Selected False, Rank: 8.000\n",
            "Column: 11, Selected False, Rank: 22.000\n",
            "Column: 12, Selected False, Rank: 21.000\n",
            "Column: 13, Selected False, Rank: 15.000\n",
            "Column: 14, Selected False, Rank: 19.000\n",
            "Column: 15, Selected False, Rank: 16.000\n",
            "Column: 16, Selected False, Rank: 6.000\n",
            "Column: 17, Selected False, Rank: 18.000\n",
            "Column: 18, Selected False, Rank: 20.000\n",
            "Column: 19, Selected False, Rank: 17.000\n",
            "Column: 20, Selected False, Rank: 14.000\n",
            "Column: 21, Selected False, Rank: 11.000\n",
            "Column: 22, Selected False, Rank: 10.000\n",
            "Column: 23, Selected False, Rank: 4.000\n",
            "Column: 24, Selected False, Rank: 12.000\n",
            "Column: 25, Selected False, Rank: 13.000\n"
          ]
        }
      ]
    },
    {
      "cell_type": "code",
      "source": [
        "# automatically select the number of features using Grid search CV\n",
        "from sklearn.ensemble import RandomForestClassifier\n",
        "from sklearn.feature_selection import RFECV\n",
        "from sklearn.model_selection import cross_val_score\n",
        "from sklearn.model_selection import RepeatedStratifiedKFold\n",
        "from numpy import mean\n",
        "from numpy import std\n",
        "\n",
        "rfe = RFECV(estimator=RandomForestClassifier())\n",
        "model = RandomForestClassifier()\n",
        "# create pipline\n",
        "pipeline = Pipeline(steps=[('r',rfe),('m',model)])\n",
        "# evaluate model\n",
        "cv = RepeatedStratifiedKFold(n_splits=10, n_repeats=3, random_state=1)\n",
        "n_scores = cross_val_score(pipeline,preprocessor(X_train),y_train_labels, scoring='accuracy', cv=cv, n_jobs=-1, error_score='raise')\n",
        "# report performance\n",
        "print('RandomForestClassifier Accuracy: %.3f (%.3f)' % (mean(n_scores), std(n_scores)))"
      ],
      "metadata": {
        "colab": {
          "base_uri": "https://localhost:8080/"
        },
        "id": "ZAhcuJhqVrn7",
        "outputId": "c072d8d9-d552-4b03-bccd-fe81172bc4ce"
      },
      "execution_count": null,
      "outputs": [
        {
          "output_type": "stream",
          "name": "stdout",
          "text": [
            "RandomForestClassifier Accuracy: 0.669 (0.146)\n"
          ]
        }
      ]
    },
    {
      "cell_type": "markdown",
      "source": [
        "# 3.Experiment with different prediction models to try to predict World Happiness well (Fit and compare, at minimum, three models)\n",
        "submit three models to the model share leaderboard before you start communicating with your team.\n",
        "After you submit your first three models, describe your best model with your team via your team slack channel\n",
        "Fit and submit up to three more models after learning from your team.\n",
        "Discuss which models you tried and which models performed better and point out relevant hyper-parameter values for successful models.\n",
        "Submit your best models to the leaderboard for the World Happiness AI Model Share competition.\n",
        "You have the option to present and/or discuss these models in your report, but it is not required.\n"
      ],
      "metadata": {
        "id": "lO2pnSSnYJky"
      }
    },
    {
      "cell_type": "code",
      "source": [
        "# Model 1 with GridSearch CV for world happiness data\n",
        "\n",
        "from sklearn.ensemble import RandomForestClassifier\n",
        "from sklearn.model_selection import GridSearchCV\n",
        "import numpy as np\n",
        "\n",
        "param_grid = {'n_estimators': np.arange(100, 150, 200),'max_depth':[1,2,3],'random_state':[1,3,5]} #np.arange creates sequence of numbers for each k value\n",
        "\n",
        "gridmodel = GridSearchCV(RandomForestClassifier(), param_grid=param_grid, cv=10)\n",
        "\n",
        "#use meta model methods to fit score and predict model:\n",
        "gridmodel.fit(preprocessor(X_train), y_train_labels)\n",
        "\n",
        "#extract best score and parameter by calling objects \"best_score_\" and \"best_params_\"\n",
        "print(\"best mean cross-validation score: {:.3f}\".format(gridmodel.best_score_))\n",
        "print(\"best parameters: {}\".format(gridmodel.best_params_))\n"
      ],
      "metadata": {
        "colab": {
          "base_uri": "https://localhost:8080/"
        },
        "id": "1To1A-5_0mdP",
        "outputId": "b8aa1dc2-802b-4a00-d1c2-008ecbe5d082"
      },
      "execution_count": null,
      "outputs": [
        {
          "output_type": "stream",
          "name": "stdout",
          "text": [
            "best mean cross-validation score: 0.660\n",
            "best parameters: {'max_depth': 3, 'n_estimators': 100, 'random_state': 1}\n"
          ]
        }
      ]
    },
    {
      "cell_type": "code",
      "source": [
        "# Model 2 with GridSearch CV for world happiness data (best model so far)\n",
        "\n",
        "from sklearn.ensemble import GradientBoostingClassifier\n",
        "from sklearn.model_selection import GridSearchCV\n",
        "import numpy as np\n",
        "\n",
        "param_grid = {'n_estimators': np.arange(50, 100, 150),'learning_rate':[0.05, 0.075, 0.1, 0.25, 0.5, 0.75, 1]\n",
        "              ,'max_features':[1,2,3,4,5],'max_depth':[1, 3, 5],'random_state':[3,5,10]} #np.arange creates sequence of numbers for each k value\n",
        "\n",
        "grid_gb_clf = GridSearchCV(GradientBoostingClassifier(), param_grid=param_grid, cv=10)\n",
        "\n",
        "#use meta model methods to fit score and predict model:\n",
        "grid_gb_clf.fit(preprocessor(X_train), y_train_labels)\n",
        "\n",
        "#extract best score and parameter by calling objects \"best_score_\" and \"best_params_\"\n",
        "print(\"best mean cross-validation score: {:.3f}\".format(grid_gb_clf.best_score_))\n",
        "print(\"best parameters: {}\".format(grid_gb_clf.best_params_))"
      ],
      "metadata": {
        "colab": {
          "base_uri": "https://localhost:8080/"
        },
        "id": "rJ6HZGkPuYxQ",
        "outputId": "901ce473-858e-4555-b89b-0d4679718fa5"
      },
      "execution_count": null,
      "outputs": [
        {
          "output_type": "stream",
          "name": "stdout",
          "text": [
            "best mean cross-validation score: 0.729\n",
            "best parameters: {'learning_rate': 0.25, 'max_depth': 1, 'max_features': 2, 'n_estimators': 50, 'random_state': 5}\n"
          ]
        }
      ]
    },
    {
      "cell_type": "code",
      "source": [
        "# Model 3 with GridSearch CV for world happiness data\n",
        "\n",
        "from sklearn.naive_bayes import GaussianNB\n",
        "from sklearn.model_selection import GridSearchCV\n",
        "\n",
        "param_grid = {'var_smoothing': np.logspace(0,-9, num=10)} #np.arange creates sequence of numbers for each k value\n",
        "\n",
        "nbmodel_grid = GridSearchCV(estimator=GaussianNB(), param_grid=param_grid, verbose=1,cv=5)\n",
        "nbmodel_grid.fit(preprocessor(X_train), y_train_labels)\n",
        "\n",
        "#extract best score and parameter by calling objects \"best_score_\" and \"best_params_\"\n",
        "print(\"best mean cross-validation score: {:.3f}\".format(nbmodel_grid.best_score_))\n",
        "print(\"best parameters: {}\".format(nbmodel_grid.best_params_))"
      ],
      "metadata": {
        "colab": {
          "base_uri": "https://localhost:8080/"
        },
        "id": "zKmyqnM3u4HD",
        "outputId": "251d209a-f37d-4a27-fa6b-539562746cfc"
      },
      "execution_count": null,
      "outputs": [
        {
          "output_type": "stream",
          "name": "stdout",
          "text": [
            "Fitting 10 folds for each of 10 candidates, totalling 100 fits\n",
            "best mean cross-validation score: 0.674\n",
            "best parameters: {'var_smoothing': 0.7742636826811271}\n"
          ]
        }
      ]
    },
    {
      "cell_type": "markdown",
      "source": [
        "After from learning"
      ],
      "metadata": {
        "id": "Ycf0fOKaejSp"
      }
    },
    {
      "cell_type": "code",
      "source": [
        "# Fit and sumbit model after learning from team\n",
        "from sklearn.ensemble import GradientBoostingClassifier\n",
        "from sklearn.model_selection import GridSearchCV\n",
        "import numpy as np\n",
        "\n",
        "param_grid = {'n_estimators': np.arange(10, 50, 100),'learning_rate':[1]\n",
        "              ,'max_features':[1,2,3],'max_depth':[1,2,3],'random_state':[3]} #np.arange creates sequence of numbers for each k value\n",
        "\n",
        "grid_gb_clf = GridSearchCV(GradientBoostingClassifier(), param_grid=param_grid, cv=10)\n",
        "\n",
        "#use meta model methods to fit score and predict model:\n",
        "grid_gb_clf.fit(preprocessor(X_train), y_train_labels)\n",
        "\n",
        "#extract best score and parameter by calling objects \"best_score_\" and \"best_params_\"\n",
        "print(\"best mean cross-validation score: {:.3f}\".format(grid_gb_clf.best_score_))\n",
        "print(\"best parameters: {}\".format(grid_gb_clf.best_params_))"
      ],
      "metadata": {
        "colab": {
          "base_uri": "https://localhost:8080/"
        },
        "id": "ih64xCtjdY2c",
        "outputId": "86425e12-2ad2-4a11-abd6-d1ba2fbf5241"
      },
      "execution_count": null,
      "outputs": [
        {
          "output_type": "stream",
          "name": "stdout",
          "text": [
            "best mean cross-validation score: 0.613\n",
            "best parameters: {'learning_rate': 1, 'max_depth': 1, 'max_features': 3, 'n_estimators': 10, 'random_state': 3}\n"
          ]
        }
      ]
    },
    {
      "cell_type": "code",
      "source": [
        "# Fit and sumbit model after learning from team\n",
        "import keras\n",
        "from keras.models import Sequential\n",
        "from keras.layers import Dense, Activation\n",
        "\n",
        "feature_count=preprocessor(X_train).shape[1] #count features in input data\n",
        "\n",
        "keras_model = Sequential()\n",
        "keras_model.add(Dense(128, input_dim=feature_count, activation='relu'))\n",
        "keras_model.add(Dense(64, activation='relu'))\n",
        "keras_model.add(Dense(64, activation='relu'))\n",
        "keras_model.add(Dense(32, activation='relu'))\n",
        "\n",
        "keras_model.add(Dense(5, activation='sigmoid')) \n",
        "                                            \n",
        "# Compile model\n",
        "keras_model.compile(loss='categorical_crossentropy', optimizer='sgd', metrics=['accuracy'])\n",
        "\n",
        "# Fitting the NN to the Training set\n",
        "keras_model.fit(preprocessor(X_train), y_train, ## Note that keras models require a one-hot-encoded y_train object\n",
        "               batch_size = 20, \n",
        "               epochs = 300, validation_split=0.25)"
      ],
      "metadata": {
        "id": "AB8NNTe6nEvr"
      },
      "execution_count": null,
      "outputs": []
    },
    {
      "cell_type": "code",
      "source": [
        "# Fit and sumbit model after learning from team\n",
        "from sklearn.ensemble import RandomForestClassifier\n",
        "from sklearn.model_selection import GridSearchCV\n",
        "import numpy as np\n",
        "\n",
        "param_grid = {'n_estimators': np.arange(25, 50,100),'max_depth':[1,2,3,4,5]} #np.arange creates sequence of numbers for each k value\n",
        "\n",
        "gridmodel = GridSearchCV(RandomForestClassifier(), param_grid=param_grid, cv=10)\n",
        "\n",
        "#use meta model methods to fit score and predict model:\n",
        "gridmodel.fit(preprocessor(X_train), y_train_labels)\n",
        "\n",
        "#extract best score and parameter by calling objects \"best_score_\" and \"best_params_\"\n",
        "print(\"best mean cross-validation score: {:.3f}\".format(gridmodel.best_score_))\n",
        "print(\"best parameters: {}\".format(gridmodel.best_params_))"
      ],
      "metadata": {
        "colab": {
          "base_uri": "https://localhost:8080/"
        },
        "id": "wSfI2ZY-nE45",
        "outputId": "0568cda7-7b6b-4b06-fcb4-9c58618dbd63"
      },
      "execution_count": null,
      "outputs": [
        {
          "output_type": "stream",
          "name": "stdout",
          "text": [
            "best mean cross-validation score: 0.706\n",
            "best parameters: {'max_depth': 5, 'n_estimators': 25}\n"
          ]
        }
      ]
    },
    {
      "cell_type": "markdown",
      "source": [
        "### Discuss which models you tried and which models performed better and point out relevant hyper-parameter values for successful models."
      ],
      "metadata": {
        "id": "jjWuRBeUuNOa"
      }
    },
    {
      "cell_type": "markdown",
      "source": [
        "I tried RandomForestClassifier,GradientBoostingClassifier,GaussianNB and deep learning model with keras. The GradientBoostingClassifier model performed better with learning_rate: 0.25,max_depth: 1, max_features: 2 and n_estimators: 50, random_state: 5"
      ],
      "metadata": {
        "id": "lf75E_V2uxhH"
      }
    }
  ]
}
